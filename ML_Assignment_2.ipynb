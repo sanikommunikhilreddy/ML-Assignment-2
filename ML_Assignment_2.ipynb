{
  "nbformat": 4,
  "nbformat_minor": 0,
  "metadata": {
    "colab": {
      "provenance": []
    },
    "kernelspec": {
      "name": "python3",
      "display_name": "Python 3"
    },
    "language_info": {
      "name": "python"
    }
  },
  "cells": [
    {
      "cell_type": "code",
      "source": [
        "#1 Use a python code to display the following star pattern using the for loop\n",
        "\n",
        "for i in range(1,6):\n",
        "  for j in range(1,i):\n",
        "    print(\"*\",end=' ')\n",
        "  print(\"\\r\")\n",
        "for i in range(6,1,-1):\n",
        "  for j in range(1,i):\n",
        "    print(\"*\",end=' ')\n",
        "  print(\"\\r\")"
      ],
      "metadata": {
        "colab": {
          "base_uri": "https://localhost:8080/"
        },
        "id": "K3wAWCQV-tXq",
        "outputId": "947765ac-1f8a-428c-c30c-ce8711ea8146"
      },
      "execution_count": 17,
      "outputs": [
        {
          "output_type": "stream",
          "name": "stdout",
          "text": [
            "\r\n",
            "* \r\n",
            "* * \r\n",
            "* * * \r\n",
            "* * * * \r\n",
            "* * * * * \r\n",
            "* * * * \r\n",
            "* * * \r\n",
            "* * \r\n",
            "* \r\n"
          ]
        }
      ]
    },
    {
      "cell_type": "code",
      "execution_count": 18,
      "metadata": {
        "colab": {
          "base_uri": "https://localhost:8080/"
        },
        "id": "y805bYBa3xPh",
        "outputId": "55ecb14f-88c8-478f-88a0-fa61d8e5acd6"
      },
      "outputs": [
        {
          "output_type": "stream",
          "name": "stdout",
          "text": [
            "20 40 60 80 100 "
          ]
        }
      ],
      "source": [
        "#2 Use looping to output the elements from a provided list present at odd indexes.\n",
        "#my_list = [10, 20, 30, 40, 50, 60, 70, 80, 90, 100]\n",
        "\n",
        "my_list = [10, 20, 30, 40, 50, 60, 70, 80, 90, 100]\n",
        "for index, item in enumerate(my_list):\n",
        "    if index % 2 != 0:\n",
        "        print(item, end=' ')"
      ]
    },
    {
      "cell_type": "code",
      "source": [
        "#3Write a code that appends the type of elements from a given list.\n",
        "\n",
        "\n",
        "x=[23, 'python', 23.98]\n",
        "types=[]\n",
        "for i in x:\n",
        "  types.append(type(i))\n",
        "\n",
        "print(x)\n",
        "print(types)"
      ],
      "metadata": {
        "colab": {
          "base_uri": "https://localhost:8080/"
        },
        "id": "sVQyEd-RADpe",
        "outputId": "aea64ed8-05d1-4733-fe79-30e6b7e443e3"
      },
      "execution_count": 19,
      "outputs": [
        {
          "output_type": "stream",
          "name": "stdout",
          "text": [
            "[23, 'python', 23.98]\n",
            "[<class 'int'>, <class 'str'>, <class 'float'>]\n"
          ]
        }
      ]
    },
    {
      "cell_type": "code",
      "source": [
        "#4Write a function that takes a list and returns a new list with unique items of the first list.\n",
        "\n",
        "def uniqeList(list1):\n",
        "  list_set=set(list1)\n",
        "  return list_set\n",
        "sample_List=[1,2,3,3,3,4,5]\n",
        "print(sample_List)\n",
        "print(list(uniqeList(sample_List)))"
      ],
      "metadata": {
        "colab": {
          "base_uri": "https://localhost:8080/"
        },
        "id": "Xatv1ALEOKyw",
        "outputId": "278f8573-0a01-4866-fbb1-5a350ba0ac15"
      },
      "execution_count": 20,
      "outputs": [
        {
          "output_type": "stream",
          "name": "stdout",
          "text": [
            "[1, 2, 3, 3, 3, 4, 5]\n",
            "[1, 2, 3, 4, 5]\n"
          ]
        }
      ]
    },
    {
      "cell_type": "code",
      "source": [
        "\n",
        "#5 Write a function that accepts a string and calculate the number of upper-case letters and lower-case letters.\n",
        "\n",
        "def count_case(string):\n",
        "  print('No of upper-case characters:',sum(map(str.isupper, string)))\n",
        "  print('No of Lower-case characters:',sum(map(str.islower, string)))\n",
        "Input_String='The quick Brow Fox'\n",
        "count_case(Input_String)"
      ],
      "metadata": {
        "colab": {
          "base_uri": "https://localhost:8080/"
        },
        "id": "nIztaUoXQQzm",
        "outputId": "5d753e1d-6632-45df-b3ed-5c22f80ed749"
      },
      "execution_count": 21,
      "outputs": [
        {
          "output_type": "stream",
          "name": "stdout",
          "text": [
            "No of upper-case characters: 3\n",
            "No of Lower-case characters: 12\n"
          ]
        }
      ]
    }
  ]
}